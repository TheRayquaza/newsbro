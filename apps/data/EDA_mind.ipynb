{
 "cells": [
  {
   "cell_type": "markdown",
   "id": "cc3b8049",
   "metadata": {},
   "source": [
    "# EDA on the MIND Dataset\n",
    "\n",
    "The dataset used in this project can be found on Kaggle: [MIND: Microsoft News Recommendation Dataset](https://www.kaggle.com/datasets/arashnic/mind-news-dataset)"
   ]
  },
  {
   "cell_type": "code",
   "execution_count": null,
   "id": "1ba3fc67",
   "metadata": {},
   "outputs": [],
   "source": [
    "import pandas as pd\n",
    "import numpy as np\n",
    "\n",
    "col_names = [\"impression_id\", \"user_id\", \"time\", \"history\", \"impressions\"]\n",
    "behaviors = pd.read_csv(\"behaviors.tsv\", sep=\"\\t\", names=col_names, quoting=3)\n",
    "\n",
    "col_names = [\"id\", \"category\", \"subcategory\", \"title\", \"abstract\", \"link\", \"title_entities\", \"abstract_entities\"]\n",
    "news = pd.read_csv(\"news.tsv\", sep=\"\\t\", names=col_names, quoting=3)\n",
    "\n",
    "\n",
    "def load_vec_file(path):\n",
    "    embeddings = {}\n",
    "    with open(path, \"r\", encoding=\"utf-8\") as f:\n",
    "        for line in f:\n",
    "            parts = line.strip().split()\n",
    "            if len(parts) <= 2:\n",
    "                continue\n",
    "            key = parts[0]\n",
    "            vec = np.array(list(map(float, parts[1:])))\n",
    "            embeddings[key] = vec\n",
    "    return embeddings\n",
    "\n",
    "entity_embeddings = load_vec_file(\"entity_embedding.vec\")\n",
    "relation_embeddings = load_vec_file(\"relation_embedding.vec\")"
   ]
  },
  {
   "cell_type": "markdown",
   "id": "10ff0204",
   "metadata": {},
   "source": [
    "# News and behaviors"
   ]
  },
  {
   "cell_type": "code",
   "execution_count": 10,
   "id": "16d9e330",
   "metadata": {},
   "outputs": [
    {
     "data": {
      "text/html": [
       "<div>\n",
       "<style scoped>\n",
       "    .dataframe tbody tr th:only-of-type {\n",
       "        vertical-align: middle;\n",
       "    }\n",
       "\n",
       "    .dataframe tbody tr th {\n",
       "        vertical-align: top;\n",
       "    }\n",
       "\n",
       "    .dataframe thead th {\n",
       "        text-align: right;\n",
       "    }\n",
       "</style>\n",
       "<table border=\"1\" class=\"dataframe\">\n",
       "  <thead>\n",
       "    <tr style=\"text-align: right;\">\n",
       "      <th></th>\n",
       "      <th>impression_id</th>\n",
       "      <th>user_id</th>\n",
       "      <th>time</th>\n",
       "      <th>history</th>\n",
       "      <th>impressions</th>\n",
       "    </tr>\n",
       "  </thead>\n",
       "  <tbody>\n",
       "    <tr>\n",
       "      <th>0</th>\n",
       "      <td>1</td>\n",
       "      <td>U13740</td>\n",
       "      <td>11/11/2019 9:05:58 AM</td>\n",
       "      <td>N55189 N42782 N34694 N45794 N18445 N63302 N104...</td>\n",
       "      <td>N55689-1 N35729-0</td>\n",
       "    </tr>\n",
       "    <tr>\n",
       "      <th>1</th>\n",
       "      <td>2</td>\n",
       "      <td>U91836</td>\n",
       "      <td>11/12/2019 6:11:30 PM</td>\n",
       "      <td>N31739 N6072 N63045 N23979 N35656 N43353 N8129...</td>\n",
       "      <td>N20678-0 N39317-0 N58114-0 N20495-0 N42977-0 N...</td>\n",
       "    </tr>\n",
       "    <tr>\n",
       "      <th>2</th>\n",
       "      <td>3</td>\n",
       "      <td>U73700</td>\n",
       "      <td>11/14/2019 7:01:48 AM</td>\n",
       "      <td>N10732 N25792 N7563 N21087 N41087 N5445 N60384...</td>\n",
       "      <td>N50014-0 N23877-0 N35389-0 N49712-0 N16844-0 N...</td>\n",
       "    </tr>\n",
       "    <tr>\n",
       "      <th>3</th>\n",
       "      <td>4</td>\n",
       "      <td>U34670</td>\n",
       "      <td>11/11/2019 5:28:05 AM</td>\n",
       "      <td>N45729 N2203 N871 N53880 N41375 N43142 N33013 ...</td>\n",
       "      <td>N35729-0 N33632-0 N49685-1 N27581-0</td>\n",
       "    </tr>\n",
       "    <tr>\n",
       "      <th>4</th>\n",
       "      <td>5</td>\n",
       "      <td>U8125</td>\n",
       "      <td>11/12/2019 4:11:21 PM</td>\n",
       "      <td>N10078 N56514 N14904 N33740</td>\n",
       "      <td>N39985-0 N36050-0 N16096-0 N8400-1 N22407-0 N6...</td>\n",
       "    </tr>\n",
       "  </tbody>\n",
       "</table>\n",
       "</div>"
      ],
      "text/plain": [
       "   impression_id user_id                   time  \\\n",
       "0              1  U13740  11/11/2019 9:05:58 AM   \n",
       "1              2  U91836  11/12/2019 6:11:30 PM   \n",
       "2              3  U73700  11/14/2019 7:01:48 AM   \n",
       "3              4  U34670  11/11/2019 5:28:05 AM   \n",
       "4              5   U8125  11/12/2019 4:11:21 PM   \n",
       "\n",
       "                                             history  \\\n",
       "0  N55189 N42782 N34694 N45794 N18445 N63302 N104...   \n",
       "1  N31739 N6072 N63045 N23979 N35656 N43353 N8129...   \n",
       "2  N10732 N25792 N7563 N21087 N41087 N5445 N60384...   \n",
       "3  N45729 N2203 N871 N53880 N41375 N43142 N33013 ...   \n",
       "4                        N10078 N56514 N14904 N33740   \n",
       "\n",
       "                                         impressions  \n",
       "0                                  N55689-1 N35729-0  \n",
       "1  N20678-0 N39317-0 N58114-0 N20495-0 N42977-0 N...  \n",
       "2  N50014-0 N23877-0 N35389-0 N49712-0 N16844-0 N...  \n",
       "3                N35729-0 N33632-0 N49685-1 N27581-0  \n",
       "4  N39985-0 N36050-0 N16096-0 N8400-1 N22407-0 N6...  "
      ]
     },
     "execution_count": 10,
     "metadata": {},
     "output_type": "execute_result"
    }
   ],
   "source": [
    "behaviors.head()"
   ]
  },
  {
   "cell_type": "code",
   "execution_count": 11,
   "id": "3792defb",
   "metadata": {},
   "outputs": [
    {
     "data": {
      "text/html": [
       "<div>\n",
       "<style scoped>\n",
       "    .dataframe tbody tr th:only-of-type {\n",
       "        vertical-align: middle;\n",
       "    }\n",
       "\n",
       "    .dataframe tbody tr th {\n",
       "        vertical-align: top;\n",
       "    }\n",
       "\n",
       "    .dataframe thead th {\n",
       "        text-align: right;\n",
       "    }\n",
       "</style>\n",
       "<table border=\"1\" class=\"dataframe\">\n",
       "  <thead>\n",
       "    <tr style=\"text-align: right;\">\n",
       "      <th></th>\n",
       "      <th>id</th>\n",
       "      <th>category</th>\n",
       "      <th>subcategory</th>\n",
       "      <th>title</th>\n",
       "      <th>abstract</th>\n",
       "      <th>link</th>\n",
       "      <th>title_entities</th>\n",
       "      <th>abstract_entities</th>\n",
       "    </tr>\n",
       "  </thead>\n",
       "  <tbody>\n",
       "    <tr>\n",
       "      <th>0</th>\n",
       "      <td>N55528</td>\n",
       "      <td>lifestyle</td>\n",
       "      <td>lifestyleroyals</td>\n",
       "      <td>The Brands Queen Elizabeth, Prince Charles, an...</td>\n",
       "      <td>Shop the notebooks, jackets, and more that the...</td>\n",
       "      <td>https://assets.msn.com/labs/mind/AAGH0ET.html</td>\n",
       "      <td>[{\"Label\": \"Prince Philip, Duke of Edinburgh\",...</td>\n",
       "      <td>[]</td>\n",
       "    </tr>\n",
       "    <tr>\n",
       "      <th>1</th>\n",
       "      <td>N19639</td>\n",
       "      <td>health</td>\n",
       "      <td>weightloss</td>\n",
       "      <td>50 Worst Habits For Belly Fat</td>\n",
       "      <td>These seemingly harmless habits are holding yo...</td>\n",
       "      <td>https://assets.msn.com/labs/mind/AAB19MK.html</td>\n",
       "      <td>[{\"Label\": \"Adipose tissue\", \"Type\": \"C\", \"Wik...</td>\n",
       "      <td>[{\"Label\": \"Adipose tissue\", \"Type\": \"C\", \"Wik...</td>\n",
       "    </tr>\n",
       "    <tr>\n",
       "      <th>2</th>\n",
       "      <td>N61837</td>\n",
       "      <td>news</td>\n",
       "      <td>newsworld</td>\n",
       "      <td>The Cost of Trump's Aid Freeze in the Trenches...</td>\n",
       "      <td>Lt. Ivan Molchanets peeked over a parapet of s...</td>\n",
       "      <td>https://assets.msn.com/labs/mind/AAJgNsz.html</td>\n",
       "      <td>[]</td>\n",
       "      <td>[{\"Label\": \"Ukraine\", \"Type\": \"G\", \"WikidataId...</td>\n",
       "    </tr>\n",
       "    <tr>\n",
       "      <th>3</th>\n",
       "      <td>N53526</td>\n",
       "      <td>health</td>\n",
       "      <td>voices</td>\n",
       "      <td>I Was An NBA Wife. Here's How It Affected My M...</td>\n",
       "      <td>I felt like I was a fraud, and being an NBA wi...</td>\n",
       "      <td>https://assets.msn.com/labs/mind/AACk2N6.html</td>\n",
       "      <td>[]</td>\n",
       "      <td>[{\"Label\": \"National Basketball Association\", ...</td>\n",
       "    </tr>\n",
       "    <tr>\n",
       "      <th>4</th>\n",
       "      <td>N38324</td>\n",
       "      <td>health</td>\n",
       "      <td>medical</td>\n",
       "      <td>How to Get Rid of Skin Tags, According to a De...</td>\n",
       "      <td>They seem harmless, but there's a very good re...</td>\n",
       "      <td>https://assets.msn.com/labs/mind/AAAKEkt.html</td>\n",
       "      <td>[{\"Label\": \"Skin tag\", \"Type\": \"C\", \"WikidataI...</td>\n",
       "      <td>[{\"Label\": \"Skin tag\", \"Type\": \"C\", \"WikidataI...</td>\n",
       "    </tr>\n",
       "  </tbody>\n",
       "</table>\n",
       "</div>"
      ],
      "text/plain": [
       "       id   category      subcategory  \\\n",
       "0  N55528  lifestyle  lifestyleroyals   \n",
       "1  N19639     health       weightloss   \n",
       "2  N61837       news        newsworld   \n",
       "3  N53526     health           voices   \n",
       "4  N38324     health          medical   \n",
       "\n",
       "                                               title  \\\n",
       "0  The Brands Queen Elizabeth, Prince Charles, an...   \n",
       "1                      50 Worst Habits For Belly Fat   \n",
       "2  The Cost of Trump's Aid Freeze in the Trenches...   \n",
       "3  I Was An NBA Wife. Here's How It Affected My M...   \n",
       "4  How to Get Rid of Skin Tags, According to a De...   \n",
       "\n",
       "                                            abstract  \\\n",
       "0  Shop the notebooks, jackets, and more that the...   \n",
       "1  These seemingly harmless habits are holding yo...   \n",
       "2  Lt. Ivan Molchanets peeked over a parapet of s...   \n",
       "3  I felt like I was a fraud, and being an NBA wi...   \n",
       "4  They seem harmless, but there's a very good re...   \n",
       "\n",
       "                                            link  \\\n",
       "0  https://assets.msn.com/labs/mind/AAGH0ET.html   \n",
       "1  https://assets.msn.com/labs/mind/AAB19MK.html   \n",
       "2  https://assets.msn.com/labs/mind/AAJgNsz.html   \n",
       "3  https://assets.msn.com/labs/mind/AACk2N6.html   \n",
       "4  https://assets.msn.com/labs/mind/AAAKEkt.html   \n",
       "\n",
       "                                      title_entities  \\\n",
       "0  [{\"Label\": \"Prince Philip, Duke of Edinburgh\",...   \n",
       "1  [{\"Label\": \"Adipose tissue\", \"Type\": \"C\", \"Wik...   \n",
       "2                                                 []   \n",
       "3                                                 []   \n",
       "4  [{\"Label\": \"Skin tag\", \"Type\": \"C\", \"WikidataI...   \n",
       "\n",
       "                                   abstract_entities  \n",
       "0                                                 []  \n",
       "1  [{\"Label\": \"Adipose tissue\", \"Type\": \"C\", \"Wik...  \n",
       "2  [{\"Label\": \"Ukraine\", \"Type\": \"G\", \"WikidataId...  \n",
       "3  [{\"Label\": \"National Basketball Association\", ...  \n",
       "4  [{\"Label\": \"Skin tag\", \"Type\": \"C\", \"WikidataI...  "
      ]
     },
     "execution_count": 11,
     "metadata": {},
     "output_type": "execute_result"
    }
   ],
   "source": [
    "news.head()"
   ]
  },
  {
   "cell_type": "markdown",
   "id": "f4bf5df9",
   "metadata": {},
   "source": [
    "First let's remove missing values"
   ]
  },
  {
   "cell_type": "code",
   "execution_count": 17,
   "id": "be3aeb53",
   "metadata": {},
   "outputs": [
    {
     "name": "stdout",
     "output_type": "stream",
     "text": [
      "id                      0\n",
      "category                0\n",
      "subcategory             0\n",
      "title                   0\n",
      "abstract             2666\n",
      "link                    0\n",
      "title_entities          0\n",
      "abstract_entities       0\n",
      "dtype: int64\n",
      "Total missing: 2666\n"
     ]
    }
   ],
   "source": [
    "print(news.isnull().sum())\n",
    "print(\"Total missing:\", news.isnull().sum().sum())"
   ]
  },
  {
   "cell_type": "code",
   "execution_count": 30,
   "id": "95c3865a",
   "metadata": {},
   "outputs": [
    {
     "name": "stdout",
     "output_type": "stream",
     "text": [
      "id                   0\n",
      "category             0\n",
      "subcategory          0\n",
      "title                0\n",
      "abstract             0\n",
      "link                 0\n",
      "title_entities       0\n",
      "abstract_entities    0\n",
      "dtype: int64\n",
      "Total missing: 0\n"
     ]
    }
   ],
   "source": [
    "news = news.dropna(subset=['abstract'])\n",
    "print(news.isnull().sum())\n",
    "print(\"Total missing:\", news.isnull().sum().sum())"
   ]
  },
  {
   "cell_type": "code",
   "execution_count": 29,
   "id": "47ae5e91",
   "metadata": {},
   "outputs": [
    {
     "name": "stdout",
     "output_type": "stream",
     "text": [
      "impression_id       0\n",
      "user_id             0\n",
      "time                0\n",
      "history          3238\n",
      "impressions         0\n",
      "dtype: int64\n",
      "Total missing: 3238\n"
     ]
    }
   ],
   "source": [
    "print(behaviors.isnull().sum())\n",
    "print(\"Total missing:\", behaviors.isnull().sum().sum())"
   ]
  },
  {
   "cell_type": "code",
   "execution_count": 31,
   "id": "60b58711",
   "metadata": {},
   "outputs": [
    {
     "name": "stdout",
     "output_type": "stream",
     "text": [
      "impression_id    0\n",
      "user_id          0\n",
      "time             0\n",
      "history          0\n",
      "impressions      0\n",
      "dtype: int64\n",
      "Total missing: 0\n"
     ]
    }
   ],
   "source": [
    "behaviors = behaviors.dropna(subset=['history'])\n",
    "print(behaviors.isnull().sum())\n",
    "print(\"Total missing:\", behaviors.isnull().sum().sum())"
   ]
  },
  {
   "cell_type": "markdown",
   "id": "936fef3c",
   "metadata": {},
   "source": [
    "# Entities and Relations"
   ]
  },
  {
   "cell_type": "code",
   "execution_count": 13,
   "id": "507bc8f0",
   "metadata": {},
   "outputs": [
    {
     "name": "stdout",
     "output_type": "stream",
     "text": [
      "Entity example: [('Q41', array([-0.063388, -0.181451,  0.057501, -0.091254, -0.076217, -0.052525,\n",
      "        0.0505  , -0.224871, -0.018145,  0.030722,  0.064276,  0.073063,\n",
      "        0.039489,  0.159404, -0.128784,  0.016325,  0.026797,  0.13709 ,\n",
      "        0.001849, -0.059103,  0.012091,  0.045418,  0.000591,  0.211337,\n",
      "       -0.034093, -0.074582,  0.014004, -0.099355,  0.170144,  0.109376,\n",
      "       -0.014797,  0.071172,  0.080375,  0.045563, -0.046462,  0.070108,\n",
      "        0.015413, -0.020874, -0.170324, -0.00113 ,  0.05981 ,  0.054342,\n",
      "        0.027358, -0.028995, -0.224508,  0.066281, -0.200006,  0.018186,\n",
      "        0.082396,  0.167178, -0.136239,  0.055134, -0.080195, -0.00146 ,\n",
      "        0.031078, -0.017084, -0.091176, -0.036916,  0.124642, -0.098185,\n",
      "       -0.054836,  0.152483, -0.053712,  0.092816, -0.112044, -0.072247,\n",
      "       -0.114896, -0.036541, -0.186339, -0.16061 ,  0.037342, -0.133474,\n",
      "        0.11008 ,  0.070678, -0.005586, -0.046667, -0.07201 ,  0.086424,\n",
      "        0.026165,  0.030561,  0.077888, -0.117226,  0.211597,  0.112512,\n",
      "        0.079999, -0.083398, -0.121117,  0.071751, -0.017654, -0.134979,\n",
      "       -0.051949,  0.001861,  0.124535, -0.151043, -0.263698, -0.103607,\n",
      "        0.020007, -0.101157, -0.091567,  0.035234]))]\n",
      "Relation example: [('P31', array([-0.073467, -0.132227,  0.034173, -0.032769,  0.008289, -0.107088,\n",
      "       -0.031712, -0.039581,  0.101882, -0.106961, -0.053441,  0.068202,\n",
      "       -0.045584, -0.140448, -0.079402,  0.001022,  0.059921, -0.06251 ,\n",
      "        0.102848,  0.077947, -0.063644,  0.05007 , -0.01918 ,  0.064456,\n",
      "       -0.052222,  0.071078, -0.036413, -0.039235,  0.137947,  0.067378,\n",
      "       -0.137468,  0.103482,  0.121755, -0.006587,  0.063077, -0.024954,\n",
      "       -0.0313  , -0.056833, -0.139115, -0.05357 ,  0.165815, -0.022143,\n",
      "        0.006561, -0.108691, -0.149139,  0.080943,  0.054542, -0.034564,\n",
      "        0.082343, -0.095843, -0.068758,  0.01385 , -0.025589, -0.012451,\n",
      "        0.116367, -0.066981, -0.006472,  0.136078, -0.057084, -0.066427,\n",
      "       -0.035916, -0.028447, -0.070395, -0.052364, -0.040038,  0.037342,\n",
      "       -0.073347,  0.112529,  0.106537,  0.107426,  0.086297,  0.085833,\n",
      "        0.054393,  0.053187,  0.066242,  0.058507, -0.04718 , -0.086089,\n",
      "        0.050148,  0.053491, -0.04237 , -0.110435, -0.058929,  0.063987,\n",
      "       -0.037393, -0.057942, -0.032128,  0.141226, -0.106979,  0.072183,\n",
      "       -0.045641, -0.050068, -0.053686, -0.045389, -0.037017,  0.11719 ,\n",
      "       -0.063597, -0.05691 ,  0.058387, -0.114056]))]\n"
     ]
    }
   ],
   "source": [
    "print(\"Entity example:\", list(entity_embeddings.items())[:1])\n",
    "print(\"Relation example:\", list(relation_embeddings.items())[:1])"
   ]
  },
  {
   "cell_type": "code",
   "execution_count": null,
   "id": "25a97cc8",
   "metadata": {},
   "outputs": [],
   "source": []
  }
 ],
 "metadata": {
  "kernelspec": {
   "display_name": "mlops",
   "language": "python",
   "name": "python3"
  },
  "language_info": {
   "codemirror_mode": {
    "name": "ipython",
    "version": 3
   },
   "file_extension": ".py",
   "mimetype": "text/x-python",
   "name": "python",
   "nbconvert_exporter": "python",
   "pygments_lexer": "ipython3",
   "version": "3.12.11"
  }
 },
 "nbformat": 4,
 "nbformat_minor": 5
}
